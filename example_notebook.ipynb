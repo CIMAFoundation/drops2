{
 "cells": [
  {
   "cell_type": "markdown",
   "metadata": {},
   "source": [
    "DROPS2 Interactive Notebook 🚀\n",
    "-----------------\n",
    "\n",
    "## Tips:\n",
    "- press **shift+return** to run a cell and advance to the next, or **ctrl+return** to run a cell\n",
    "- access the docs for a function using **?** e.g. :\n",
    "        coverages.get_data?\n",
    "- use _**tab**_ to get the auto-completion while editing a cell \n",
    "\n",
    "enjoy 😉"
   ]
  },
  {
   "cell_type": "markdown",
   "metadata": {},
   "source": [
    "------------------------------------------------------------------\n",
    "** Useful docs 📖 ** \n",
    "\n",
    "[xarray doc](http://xarray.pydata.org/en/stable/)\n",
    "\n",
    "[pandas doc](http://pandas.pydata.org/pandas-docs/stable/10min.html)\n",
    "\n",
    "[geopandas doc](http://geopandas.org/)\n",
    "\n",
    "[numpy doc](https://docs.scipy.org/doc/numpy-1.13.0/reference/)\n",
    "\n",
    "[jupyter doc](http://jupyter.org/documentation.html)\n",
    "\n",
    "[pyplot doc](https://matplotlib.org/api/pyplot_api.html)\n",
    "\n",
    "------------------------------------------------------------------"
   ]
  },
  {
   "cell_type": "code",
   "execution_count": 1,
   "metadata": {},
   "outputs": [],
   "source": [
    "# import the drops2 module\n",
    "from drops2 import sensors, coverages"
   ]
  },
  {
   "cell_type": "code",
   "execution_count": 2,
   "metadata": {},
   "outputs": [
    {
     "name": "stdout",
     "output_type": "stream",
     "text": [
      "Populating the interactive namespace from numpy and matplotlib\n"
     ]
    }
   ],
   "source": [
    "# import all the plot functions and make them plot inline\n",
    "%pylab inline\n",
    "import pandas as pd\n",
    "import geopandas as gpd\n",
    "import xarray as xr\n",
    "import numpy as np\n",
    "from datetime import datetime, timedelta\n",
    "from IPython.lib.display import FileLink"
   ]
  },
  {
   "cell_type": "markdown",
   "metadata": {},
   "source": [
    "\n",
    "Create a map for the cumulated precipitation\n",
    "------------------------------------------------"
   ]
  },
  {
   "cell_type": "code",
   "execution_count": 3,
   "metadata": {},
   "outputs": [],
   "source": [
    "date_from = '201712110000'\n",
    "date_to = '201712120000'\n",
    "sensor_class = 'PLUVIOMETRO'"
   ]
  },
  {
   "cell_type": "code",
   "execution_count": 4,
   "metadata": {},
   "outputs": [
    {
     "data": {
      "text/html": [
       "<div>\n",
       "<style scoped>\n",
       "    .dataframe tbody tr th:only-of-type {\n",
       "        vertical-align: middle;\n",
       "    }\n",
       "\n",
       "    .dataframe tbody tr th {\n",
       "        vertical-align: top;\n",
       "    }\n",
       "\n",
       "    .dataframe thead th {\n",
       "        text-align: right;\n",
       "    }\n",
       "</style>\n",
       "<table border=\"1\" class=\"dataframe\">\n",
       "  <thead>\n",
       "    <tr style=\"text-align: right;\">\n",
       "      <th></th>\n",
       "      <th>name</th>\n",
       "      <th>mu</th>\n",
       "      <th>geometry</th>\n",
       "    </tr>\n",
       "    <tr>\n",
       "      <th>id</th>\n",
       "      <th></th>\n",
       "      <th></th>\n",
       "      <th></th>\n",
       "    </tr>\n",
       "  </thead>\n",
       "  <tbody>\n",
       "    <tr>\n",
       "      <th>1073800617_1</th>\n",
       "      <td>Rio Gere</td>\n",
       "      <td>mm</td>\n",
       "      <td>POINT (12.186649 46.56783)</td>\n",
       "    </tr>\n",
       "    <tr>\n",
       "      <th>1073800618_1</th>\n",
       "      <td>Rio Gere</td>\n",
       "      <td>mm</td>\n",
       "      <td>POINT (12.186649 46.56783)</td>\n",
       "    </tr>\n",
       "    <tr>\n",
       "      <th>58795_1</th>\n",
       "      <td>Mezzolombardo</td>\n",
       "      <td>mm</td>\n",
       "      <td>POINT (11.103056 46.19389)</td>\n",
       "    </tr>\n",
       "    <tr>\n",
       "      <th>268442973_2</th>\n",
       "      <td>Acqui Terme</td>\n",
       "      <td>mm</td>\n",
       "      <td>POINT (8.463333 44.678333)</td>\n",
       "    </tr>\n",
       "    <tr>\n",
       "      <th>-2147444435_2</th>\n",
       "      <td>Lecce</td>\n",
       "      <td>mm</td>\n",
       "      <td>POINT (18.178 40.354332)</td>\n",
       "    </tr>\n",
       "  </tbody>\n",
       "</table>\n",
       "</div>"
      ],
      "text/plain": [
       "                        name  mu                    geometry\n",
       "id                                                          \n",
       "1073800617_1        Rio Gere  mm  POINT (12.186649 46.56783)\n",
       "1073800618_1        Rio Gere  mm  POINT (12.186649 46.56783)\n",
       "58795_1        Mezzolombardo  mm  POINT (11.103056 46.19389)\n",
       "268442973_2      Acqui Terme  mm  POINT (8.463333 44.678333)\n",
       "-2147444435_2          Lecce  mm    POINT (18.178 40.354332)"
      ]
     },
     "execution_count": 4,
     "metadata": {},
     "output_type": "execute_result"
    }
   ],
   "source": [
    "#require the sensor list within the default geowindow\n",
    "sensors_list = sensors.get_sensor_list(sensor_class, geo_win=(6.0, 36.0, 18.6, 47.5))\n",
    "df_sensors = sensors_list.to_geopandas()\n",
    "df_sensors.head()"
   ]
  },
  {
   "cell_type": "code",
   "execution_count": null,
   "metadata": {},
   "outputs": [],
   "source": [
    "# get the data as a pandas dataframe\n",
    "df_pluvio = sensors.get_sensor_data(sensor_class, sensors_list, date_from, date_to, as_pandas=True)\n",
    "# filter out the invalid values\n",
    "df_pluvio[df_pluvio<0] = np.NaN\n"
   ]
  },
  {
   "cell_type": "code",
   "execution_count": null,
   "metadata": {},
   "outputs": [],
   "source": [
    "# combine the sensor dataframe with the cumulate from the extracted values\n",
    "df_sensors['value'] = df_pluvio.sum()"
   ]
  },
  {
   "cell_type": "code",
   "execution_count": null,
   "metadata": {},
   "outputs": [],
   "source": [
    "# plot values as choropleth map\n",
    "df_sensors.sort_values('value').plot(column='value', cmap='jet', markersize=5, legend=True)"
   ]
  },
  {
   "cell_type": "code",
   "execution_count": null,
   "metadata": {},
   "outputs": [],
   "source": [
    "# get the 5 sensors with highest cumulate\n",
    "df_sensors.sort_values('value', ascending=False).head()"
   ]
  },
  {
   "cell_type": "markdown",
   "metadata": {},
   "source": [
    "\n",
    "Download of a timeserie for a selected sensor\n",
    "------------------------------------------------"
   ]
  },
  {
   "cell_type": "code",
   "execution_count": null,
   "metadata": {},
   "outputs": [],
   "source": [
    "date_from = '201712100000'\n",
    "date_to = '201712130000'\n",
    "sensor_class = 'PLUVIOMETRO'\n",
    "\n",
    "# Selected sensor id\n",
    "sensor_id = '-2147433690_1'"
   ]
  },
  {
   "cell_type": "code",
   "execution_count": null,
   "metadata": {},
   "outputs": [],
   "source": [
    "#require the sensor list within the default geowindow\n",
    "sensors_list = sensors.get_sensor_list(sensor_class, geo_win=(6.0, 36.0, 18.6, 47.5))\n",
    "\n",
    "# take the selected sensor by id\n",
    "sensor = sensors_list[sensor_id]\n",
    "print(sensor)"
   ]
  },
  {
   "cell_type": "code",
   "execution_count": null,
   "metadata": {},
   "outputs": [],
   "source": [
    "# get the data as dataframe\n",
    "df_values = sensors.get_sensor_data(sensor_class, [sensor], date_from, date_to, as_pandas=True)"
   ]
  },
  {
   "cell_type": "code",
   "execution_count": null,
   "metadata": {},
   "outputs": [],
   "source": [
    "# create a file and access it using a download link\n",
    "filename = 'data.csv'\n",
    "df_values.to_csv(filename)\n",
    "FileLink(path=filename)"
   ]
  },
  {
   "cell_type": "code",
   "execution_count": null,
   "metadata": {},
   "outputs": [],
   "source": [
    "# resample the data by cumulating on 3H window\n",
    "df_resampled = df_values.resample('3H').sum()\n",
    "\n",
    "# bar plot of the cumulated precipitation\n",
    "df_resampled.plot.bar(figsize=(20,10), rot=45)\n",
    "grid()"
   ]
  },
  {
   "cell_type": "markdown",
   "metadata": {},
   "source": [
    "Get a sensor map\n",
    "---------------"
   ]
  },
  {
   "cell_type": "code",
   "execution_count": null,
   "metadata": {},
   "outputs": [],
   "source": [
    "# generate a date range list\n",
    "date_range = [datetime(2017, 12, 10) + timedelta(days=d) for d in range(4)]\n",
    "\n",
    "# get the maps from the service using a 24h cum time\n",
    "cum_hours = 24\n",
    "sensor_class = 'PLUVIOMETRO'\n",
    "data = sensors.get_sensor_map(sensor_class, date_range, \n",
    "                              cum_hours=cum_hours, geo_win=(6.0, 36.0, 18.6, 47.5),\n",
    "                              img_dim=(630, 575), radius=0.5)\n"
   ]
  },
  {
   "cell_type": "code",
   "execution_count": null,
   "metadata": {},
   "outputs": [],
   "source": [
    "# generate the variable name\n",
    "variable_name = sensor_class + '_' + str(cum_hours) + 'h'\n",
    "\n",
    "# fix missing values\n",
    "P = data[variable_name]\n",
    "P.values[P.values<0] = NaN\n"
   ]
  },
  {
   "cell_type": "code",
   "execution_count": null,
   "metadata": {},
   "outputs": [],
   "source": [
    "# plot the data\n",
    "for d in date_range:\n",
    "    figure()\n",
    "    imshow(flipud(P.loc[d,:,:]))\n",
    "    colorbar()\n",
    "    title(d)"
   ]
  },
  {
   "cell_type": "markdown",
   "metadata": {},
   "source": [
    "Download data from COSMO LAMI\n",
    "---------------"
   ]
  },
  {
   "cell_type": "code",
   "execution_count": null,
   "metadata": {},
   "outputs": [],
   "source": [
    "# print all the supported models\n",
    "models = coverages.get_supported_data()\n",
    "\n",
    "for m in models[0:5]:\n",
    "    print(m)"
   ]
  },
  {
   "cell_type": "code",
   "execution_count": null,
   "metadata": {},
   "outputs": [],
   "source": [
    "# let's get the available reference dates for the selected model\n",
    "data_id = 'COSMO_LAMI_I7'\n",
    "model_dates = coverages.get_dates(data_id, date_from, date_to)\n",
    "print('the first 5 data ids')\n",
    "for d in model_dates[0:5]:\n",
    "    print(d)\n",
    "print('...')    "
   ]
  },
  {
   "cell_type": "code",
   "execution_count": null,
   "metadata": {},
   "outputs": [],
   "source": [
    "# select the first date and get the available variables\n",
    "date_ref = model_dates[0]\n",
    "variables = coverages.get_variables(data_id, date_ref)\n",
    "print('the first 5 variables for ' + data_id)\n",
    "for v in variables[0:5]: \n",
    "    print(v)\n",
    "print('...')    "
   ]
  },
  {
   "cell_type": "code",
   "execution_count": null,
   "metadata": {},
   "outputs": [],
   "source": [
    "# print the available levels for the selected variable\n",
    "variable = 'LAMI_11'\n",
    "levels = coverages.get_levels(data_id, date_ref, variable)\n",
    "print('the first 5 levels for ' + data_id + ' ' + variable)\n",
    "for lev in levels:\n",
    "    print(lev)\n",
    "print('...')        "
   ]
  },
  {
   "cell_type": "code",
   "execution_count": null,
   "metadata": {
    "scrolled": true
   },
   "outputs": [],
   "source": [
    "# print the timeline\n",
    "level = '2'\n",
    "timeline = coverages.get_timeline(data_id, date_ref, variable, level)\n",
    "\n",
    "for t in timeline:\n",
    "    print(t)"
   ]
  },
  {
   "cell_type": "code",
   "execution_count": null,
   "metadata": {},
   "outputs": [],
   "source": [
    "# select all the timesteps for the model\n",
    "date_selected = 'all'\n",
    "\n",
    "# data is an xarray object \n",
    "data = coverages.get_data(data_id, date_ref, variable, level, date_selected=date_selected)"
   ]
  },
  {
   "cell_type": "code",
   "execution_count": null,
   "metadata": {},
   "outputs": [],
   "source": [
    "# create a file and access it using a download link\n",
    "filename = 'dataset.nc'\n",
    "data.to_netcdf(filename)\n",
    "FileLink(path=filename)"
   ]
  },
  {
   "cell_type": "code",
   "execution_count": null,
   "metadata": {},
   "outputs": [],
   "source": [
    "imshow(flipud(data.LAMI_11.mean('time')))\n",
    "colorbar()"
   ]
  }
 ],
 "metadata": {
  "kernelspec": {
   "display_name": "Python 2",
   "language": "python",
   "name": "python2"
  },
  "language_info": {
   "codemirror_mode": {
    "name": "ipython",
    "version": 3
   },
   "file_extension": ".py",
   "mimetype": "text/x-python",
   "name": "python",
   "nbconvert_exporter": "python",
   "pygments_lexer": "ipython3",
   "version": "3.5.2"
  }
 },
 "nbformat": 4,
 "nbformat_minor": 2
}
